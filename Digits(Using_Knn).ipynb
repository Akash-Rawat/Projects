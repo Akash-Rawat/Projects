{
  "nbformat": 4,
  "nbformat_minor": 0,
  "metadata": {
    "colab": {
      "name": "Digits(Using Knn).ipynb",
      "provenance": [],
      "collapsed_sections": []
    },
    "kernelspec": {
      "display_name": "Python 3",
      "name": "python3"
    },
    "language_info": {
      "name": "python"
    }
  },
  "cells": [
    {
      "cell_type": "code",
      "metadata": {
        "id": "DDIZAQ2iCYby"
      },
      "source": [
        "from google.colab import drive\n",
        "drive.mount(\"/content/drive\")"
      ],
      "execution_count": null,
      "outputs": []
    },
    {
      "cell_type": "code",
      "metadata": {
        "id": "q5VPOfbbCzNN"
      },
      "source": [
        "import keras\n",
        "import sklearn\n",
        "import pandas as pd\n",
        "import numpy as np\n"
      ],
      "execution_count": null,
      "outputs": []
    },
    {
      "cell_type": "code",
      "metadata": {
        "id": "TStViVUbDhMl"
      },
      "source": [
        "from sklearn.model_selection import train_test_split\n",
        "from sklearn.neighbors import KNeighborsClassifier\n",
        "from sklearn.metrics import confusion_matrix\n",
        "from sklearn.metrics import classification_report\n",
        "from __future__ import print_function\n"
      ],
      "execution_count": null,
      "outputs": []
    },
    {
      "cell_type": "code",
      "metadata": {
        "id": "6jKGjiWCWYly"
      },
      "source": [
        "pd.options.display.max_rows = 10\n",
        "pd.options.display.float_format = \"{:.1f}\".format\n",
        "np.set_printoptions(linewidth = 200)\n",
        "from IPython.display import display, HTML"
      ],
      "execution_count": null,
      "outputs": []
    },
    {
      "cell_type": "code",
      "metadata": {
        "id": "jOpMIwg1rDQH"
      },
      "source": [
        "from collections import defaultdict\n",
        "from pathlib import Path"
      ],
      "execution_count": null,
      "outputs": []
    },
    {
      "cell_type": "code",
      "metadata": {
        "colab": {
          "background_save": true
        },
        "id": "xBY8umuuEwSX",
        "outputId": "482417c5-46ac-4de5-d593-96493bd9c402"
      },
      "source": [
        "trainDataPath = \"/content/drive/MyDrive/Datasets MNIST/digits/trainingDigits\"\n",
        "testDataPath = \"/content/drive/MyDrive/Datasets MNIST/digits/testDigits\"\n"
      ],
      "execution_count": null,
      "outputs": [
        {
          "output_type": "display_data",
          "data": {
            "text/html": [
              "\n",
              "     <input type=\"file\" id=\"files-cbf748b5-34d4-40c5-8016-3c6090c95e77\" name=\"files[]\" multiple disabled\n",
              "        style=\"border:none\" />\n",
              "     <output id=\"result-cbf748b5-34d4-40c5-8016-3c6090c95e77\">\n",
              "      Upload widget is only available when the cell has been executed in the\n",
              "      current browser session. Please rerun this cell to enable.\n",
              "      </output>\n",
              "      <script src=\"/nbextensions/google.colab/files.js\"></script> "
            ],
            "text/plain": [
              "<IPython.core.display.HTML object>"
            ]
          },
          "metadata": {
            "tags": []
          }
        },
        {
          "output_type": "error",
          "ename": "TypeError",
          "evalue": "ignored",
          "traceback": [
            "\u001b[0;31m---------------------------------------------------------------------------\u001b[0m",
            "\u001b[0;31mTypeError\u001b[0m                                 Traceback (most recent call last)",
            "\u001b[0;32m<ipython-input-1-21dc3c638f66>\u001b[0m in \u001b[0;36m<module>\u001b[0;34m()\u001b[0m\n\u001b[1;32m      1\u001b[0m \u001b[0;32mfrom\u001b[0m \u001b[0mgoogle\u001b[0m\u001b[0;34m.\u001b[0m\u001b[0mcolab\u001b[0m \u001b[0;32mimport\u001b[0m \u001b[0mfiles\u001b[0m\u001b[0;34m\u001b[0m\u001b[0;34m\u001b[0m\u001b[0m\n\u001b[0;32m----> 2\u001b[0;31m \u001b[0muploaded\u001b[0m \u001b[0;34m=\u001b[0m \u001b[0mfiles\u001b[0m\u001b[0;34m.\u001b[0m\u001b[0mupload\u001b[0m\u001b[0;34m(\u001b[0m\u001b[0;34m)\u001b[0m\u001b[0;34m\u001b[0m\u001b[0;34m\u001b[0m\u001b[0m\n\u001b[0m",
            "\u001b[0;32m/usr/local/lib/python3.7/dist-packages/google/colab/files.py\u001b[0m in \u001b[0;36mupload\u001b[0;34m()\u001b[0m\n\u001b[1;32m     67\u001b[0m   \u001b[0mlocal_filenames\u001b[0m \u001b[0;34m=\u001b[0m \u001b[0mdict\u001b[0m\u001b[0;34m(\u001b[0m\u001b[0;34m)\u001b[0m\u001b[0;34m\u001b[0m\u001b[0;34m\u001b[0m\u001b[0m\n\u001b[1;32m     68\u001b[0m \u001b[0;34m\u001b[0m\u001b[0m\n\u001b[0;32m---> 69\u001b[0;31m   \u001b[0;32mwhile\u001b[0m \u001b[0mresult\u001b[0m\u001b[0;34m[\u001b[0m\u001b[0;34m'action'\u001b[0m\u001b[0;34m]\u001b[0m \u001b[0;34m!=\u001b[0m \u001b[0;34m'complete'\u001b[0m\u001b[0;34m:\u001b[0m\u001b[0;34m\u001b[0m\u001b[0;34m\u001b[0m\u001b[0m\n\u001b[0m\u001b[1;32m     70\u001b[0m     result = _output.eval_js(\n\u001b[1;32m     71\u001b[0m         'google.colab._files._uploadFilesContinue(\"{output_id}\")'.format(\n",
            "\u001b[0;31mTypeError\u001b[0m: 'NoneType' object is not subscriptable"
          ]
        }
      ]
    },
    {
      "cell_type": "code",
      "metadata": {
        "colab": {
          "base_uri": "https://localhost:8080/"
        },
        "id": "kNUuVcr5F0rY",
        "outputId": "d43ca518-f8ea-4c0c-c70d-d80c542f0123"
      },
      "source": [
        "results = defaultdict(list)\n",
        "for file in Path(trainDataPath).iterdir():\n",
        "    with open(file, \"r\") as file_open:\n",
        "        results[\"text\"].append(file_open.read())\n",
        "train_df_feature = pd.DataFrame(results)\n",
        "print(train_df_feature) #this will be feature of training dataset\n"
      ],
      "execution_count": null,
      "outputs": [
        {
          "output_type": "stream",
          "text": [
            "                                                   text\n",
            "0     00000000000001111000000000000000\\n000000000000...\n",
            "1     00000000000001111111000000000000\\n000000000001...\n",
            "2     00000000001000000000100000000000\\n000000011111...\n",
            "3     00000000000000001111100000000000\\n000000000000...\n",
            "4     00000000000000000111111110000000\\n000000000011...\n",
            "...                                                 ...\n",
            "1939  00000000000000001110000000000000\\n000000000000...\n",
            "1940  00000000000000111000000000000000\\n000000000000...\n",
            "1941  00000000000000000111100000000000\\n000000000000...\n",
            "1942  00000000000000001000000000000000\\n000000000000...\n",
            "1943  00000000001111111111100000000000\\n000000000111...\n",
            "\n",
            "[1944 rows x 1 columns]\n"
          ],
          "name": "stdout"
        }
      ]
    },
    {
      "cell_type": "code",
      "metadata": {
        "colab": {
          "base_uri": "https://localhost:8080/"
        },
        "id": "fq3MVhVY9QRw",
        "outputId": "4e208016-2e15-4354-d0bf-19d5e868eb05"
      },
      "source": [
        "label =[]\n",
        "for file in Path(trainDataPath).iterdir():\n",
        "  label.append(str(str(file).split(\"/\")[-1]).split(\".\")[0][0]) #extracting the labels from .txt file name. eg.(1_92.txt = 1)\n",
        "print(label)\n",
        "train_df_label = pd.DataFrame(label) #this will be label dataset\n",
        "    "
      ],
      "execution_count": null,
      "outputs": [
        {
          "output_type": "stream",
          "text": [
            "['4', '3', '5', '7', '5', '9', '8', '0', '8', '7', '9', '7', '8', '1', '0', '5', '9', '6', '1', '2', '8', '6', '8', '1', '5', '2', '8', '7', '3', '1', '7', '6', '0', '6', '5', '3', '5', '1', '8', '7', '3', '6', '1', '3', '0', '4', '3', '7', '0', '6', '9', '4', '5', '7', '1', '0', '4', '3', '3', '0', '3', '1', '4', '2', '5', '5', '5', '5', '7', '0', '6', '6', '0', '2', '6', '0', '3', '9', '7', '0', '3', '4', '8', '7', '2', '2', '2', '4', '4', '5', '3', '1', '3', '0', '3', '4', '1', '1', '9', '7', '4', '3', '6', '3', '1', '2', '0', '9', '9', '1', '3', '9', '7', '7', '3', '7', '0', '7', '2', '0', '3', '2', '5', '0', '1', '9', '6', '3', '6', '5', '1', '6', '2', '9', '3', '3', '1', '7', '4', '9', '8', '5', '1', '2', '2', '2', '6', '2', '0', '4', '2', '8', '0', '9', '4', '8', '0', '1', '8', '3', '5', '1', '9', '3', '9', '0', '3', '0', '5', '8', '1', '6', '2', '9', '9', '9', '9', '6', '2', '9', '4', '6', '8', '1', '1', '6', '0', '5', '6', '2', '7', '7', '3', '3', '1', '0', '3', '0', '0', '1', '9', '5', '7', '8', '5', '5', '1', '6', '8', '2', '5', '3', '4', '7', '0', '8', '2', '7', '0', '8', '0', '9', '3', '3', '9', '6', '6', '7', '0', '8', '9', '7', '3', '3', '1', '1', '0', '6', '3', '3', '1', '0', '5', '3', '5', '3', '8', '1', '4', '8', '9', '4', '4', '6', '8', '7', '2', '6', '7', '0', '0', '7', '5', '9', '4', '0', '7', '0', '2', '5', '3', '7', '0', '5', '5', '1', '2', '3', '6', '4', '5', '6', '5', '3', '4', '4', '6', '8', '6', '7', '3', '0', '6', '1', '6', '6', '3', '1', '5', '7', '6', '1', '7', '8', '7', '3', '3', '9', '2', '5', '3', '6', '3', '9', '7', '2', '1', '2', '8', '2', '1', '0', '7', '0', '2', '5', '7', '1', '4', '3', '2', '6', '2', '9', '1', '0', '0', '9', '9', '1', '3', '7', '2', '3', '5', '5', '7', '9', '3', '6', '4', '0', '7', '5', '8', '4', '2', '7', '3', '3', '5', '1', '2', '0', '3', '5', '8', '8', '4', '4', '5', '2', '0', '3', '1', '1', '0', '3', '3', '2', '8', '2', '7', '5', '4', '1', '5', '8', '1', '4', '8', '6', '4', '4', '9', '4', '7', '9', '8', '8', '7', '6', '2', '0', '4', '9', '1', '1', '4', '4', '3', '5', '1', '3', '6', '3', '1', '8', '6', '2', '2', '4', '8', '3', '5', '7', '0', '6', '6', '7', '8', '9', '4', '7', '4', '9', '9', '8', '3', '5', '6', '2', '1', '8', '1', '5', '2', '7', '9', '9', '3', '5', '3', '4', '9', '7', '6', '0', '0', '0', '1', '8', '7', '5', '7', '1', '1', '6', '7', '5', '1', '3', '2', '8', '3', '9', '5', '2', '9', '4', '2', '3', '4', '0', '0', '4', '3', '3', '6', '7', '0', '6', '7', '3', '3', '9', '6', '3', '4', '0', '6', '3', '1', '2', '6', '4', '3', '1', '8', '8', '3', '8', '6', '0', '8', '8', '8', '7', '1', '6', '8', '6', '1', '0', '2', '4', '7', '5', '7', '0', '4', '2', '0', '4', '6', '6', '5', '0', '1', '2', '5', '6', '5', '8', '0', '2', '6', '8', '8', '9', '9', '0', '5', '9', '3', '9', '4', '9', '1', '3', '4', '9', '9', '6', '9', '6', '9', '5', '7', '2', '0', '7', '0', '7', '2', '2', '3', '9', '5', '6', '4', '3', '8', '4', '3', '2', '6', '6', '3', '1', '5', '0', '6', '9', '0', '0', '2', '0', '8', '7', '8', '4', '2', '4', '3', '1', '0', '9', '2', '8', '9', '2', '6', '0', '9', '9', '8', '1', '4', '9', '5', '2', '1', '9', '3', '2', '8', '1', '8', '9', '3', '7', '9', '1', '2', '1', '0', '0', '0', '4', '8', '6', '2', '8', '0', '3', '5', '1', '8', '7', '9', '5', '2', '8', '4', '9', '3', '6', '2', '8', '7', '3', '5', '1', '0', '3', '4', '7', '7', '1', '9', '9', '1', '4', '6', '3', '3', '0', '0', '7', '8', '2', '5', '1', '3', '5', '7', '1', '1', '4', '7', '8', '4', '9', '1', '6', '4', '9', '1', '4', '0', '6', '2', '9', '7', '7', '3', '4', '4', '4', '1', '1', '7', '4', '3', '4', '5', '1', '6', '2', '7', '0', '3', '4', '5', '5', '7', '9', '3', '9', '7', '9', '1', '8', '7', '8', '1', '9', '4', '8', '3', '6', '5', '7', '7', '9', '2', '8', '6', '2', '0', '2', '8', '2', '0', '1', '6', '2', '6', '6', '9', '2', '9', '5', '2', '2', '8', '6', '8', '2', '6', '9', '2', '3', '3', '0', '1', '2', '5', '0', '5', '7', '5', '4', '3', '6', '9', '3', '3', '6', '0', '3', '7', '3', '4', '0', '8', '2', '4', '2', '1', '1', '7', '4', '8', '7', '6', '3', '2', '4', '7', '3', '0', '8', '8', '8', '2', '2', '6', '9', '4', '9', '4', '9', '6', '2', '7', '4', '7', '1', '9', '6', '0', '2', '1', '2', '9', '5', '1', '6', '7', '9', '7', '1', '7', '0', '9', '9', '1', '1', '3', '4', '4', '5', '5', '3', '7', '7', '9', '0', '3', '9', '9', '6', '8', '4', '3', '7', '3', '1', '1', '5', '3', '2', '8', '2', '6', '0', '7', '5', '5', '8', '8', '3', '8', '7', '2', '0', '9', '4', '8', '5', '2', '1', '8', '9', '5', '9', '2', '6', '9', '3', '5', '5', '1', '9', '0', '2', '9', '6', '1', '3', '1', '3', '0', '8', '7', '2', '7', '8', '2', '9', '0', '6', '9', '9', '3', '7', '2', '0', '3', '5', '0', '7', '8', '4', '7', '5', '3', '5', '0', '6', '0', '6', '1', '9', '9', '6', '7', '7', '0', '6', '4', '5', '6', '6', '6', '8', '9', '9', '6', '1', '8', '6', '5', '0', '1', '1', '5', '6', '0', '2', '2', '2', '3', '5', '2', '1', '2', '9', '3', '7', '4', '0', '0', '5', '1', '7', '4', '5', '7', '6', '8', '7', '7', '5', '5', '9', '0', '8', '9', '4', '5', '9', '4', '0', '1', '6', '2', '6', '6', '0', '0', '1', '9', '6', '8', '1', '1', '3', '5', '2', '5', '4', '4', '1', '0', '5', '5', '0', '1', '6', '2', '2', '2', '2', '9', '6', '5', '2', '0', '3', '4', '7', '6', '1', '4', '5', '4', '1', '3', '4', '1', '3', '7', '9', '4', '7', '9', '6', '3', '9', '9', '7', '1', '0', '3', '1', '7', '8', '4', '4', '3', '9', '6', '1', '3', '5', '7', '5', '3', '2', '9', '2', '7', '9', '8', '6', '1', '7', '3', '2', '7', '3', '6', '8', '2', '9', '4', '4', '4', '2', '4', '8', '4', '7', '6', '6', '9', '9', '5', '1', '4', '8', '2', '9', '0', '2', '8', '8', '6', '1', '4', '7', '7', '8', '8', '8', '9', '8', '0', '1', '9', '2', '5', '5', '4', '1', '9', '0', '5', '0', '4', '0', '8', '9', '9', '5', '7', '1', '1', '2', '5', '5', '0', '2', '8', '9', '3', '2', '8', '1', '4', '4', '0', '0', '6', '3', '3', '4', '6', '0', '0', '6', '3', '0', '5', '8', '7', '1', '2', '3', '5', '7', '9', '3', '3', '0', '5', '8', '3', '4', '0', '7', '7', '1', '9', '5', '7', '2', '4', '0', '1', '8', '9', '3', '0', '2', '3', '9', '4', '9', '2', '7', '9', '2', '8', '5', '8', '4', '2', '7', '2', '1', '7', '3', '8', '7', '4', '9', '7', '4', '3', '8', '8', '7', '0', '2', '1', '5', '7', '5', '2', '7', '3', '4', '8', '4', '7', '7', '8', '1', '4', '1', '7', '2', '6', '0', '1', '7', '3', '6', '2', '6', '5', '4', '0', '5', '5', '4', '5', '7', '7', '2', '0', '4', '5', '4', '9', '8', '8', '6', '8', '2', '5', '3', '9', '4', '8', '1', '5', '2', '5', '2', '8', '8', '9', '0', '2', '8', '5', '9', '6', '4', '3', '4', '1', '0', '9', '2', '0', '7', '6', '9', '7', '8', '8', '2', '8', '4', '3', '7', '3', '5', '8', '1', '2', '1', '5', '9', '3', '9', '4', '2', '4', '7', '1', '6', '8', '2', '5', '1', '9', '5', '5', '7', '5', '3', '7', '1', '2', '6', '7', '6', '6', '9', '8', '4', '9', '7', '3', '9', '6', '4', '4', '4', '5', '4', '2', '0', '3', '2', '6', '8', '6', '5', '6', '9', '1', '3', '5', '3', '0', '6', '2', '9', '5', '8', '9', '5', '8', '9', '5', '9', '9', '9', '2', '8', '6', '1', '6', '9', '0', '6', '3', '2', '2', '4', '3', '5', '7', '5', '5', '7', '5', '7', '6', '9', '0', '7', '9', '7', '7', '2', '7', '8', '1', '3', '6', '3', '3', '0', '0', '9', '2', '7', '8', '7', '5', '6', '1', '7', '9', '3', '8', '6', '3', '1', '3', '6', '1', '6', '1', '3', '4', '5', '1', '3', '0', '8', '9', '6', '6', '8', '9', '6', '1', '4', '0', '5', '1', '1', '9', '8', '3', '0', '7', '5', '3', '5', '4', '5', '4', '1', '7', '4', '2', '1', '1', '5', '8', '4', '1', '4', '3', '6', '7', '1', '7', '4', '1', '3', '2', '5', '2', '6', '2', '0', '9', '6', '1', '7', '1', '8', '7', '9', '6', '2', '5', '4', '4', '8', '3', '4', '6', '9', '7', '9', '4', '0', '7', '8', '7', '0', '8', '0', '0', '8', '8', '1', '0', '8', '4', '7', '0', '8', '4', '8', '1', '8', '0', '2', '3', '4', '5', '1', '6', '2', '3', '6', '5', '0', '7', '8', '6', '3', '9', '6', '2', '6', '6', '6', '3', '0', '0', '2', '7', '5', '2', '1', '6', '6', '7', '1', '0', '2', '4', '4', '8', '9', '2', '7', '7', '6', '5', '0', '8', '6', '2', '1', '9', '9', '0', '2', '3', '8', '0', '7', '6', '2', '2', '7', '0', '1', '8', '4', '2', '0', '6', '8', '1', '2', '7', '7', '1', '5', '8', '1', '4', '7', '1', '3', '2', '5', '5', '6', '3', '2', '2', '2', '2', '8', '6', '1', '6', '8', '3', '2', '9', '4', '1', '9', '1', '4', '5', '4', '9', '1', '4', '4', '0', '1', '2', '4', '0', '4', '5', '8', '7', '5', '6', '2', '1', '7', '7', '6', '0', '1', '6', '7', '4', '1', '8', '2', '5', '3', '2', '4', '1', '2', '3', '9', '1', '9', '8', '3', '5', '7', '9', '6', '9', '7', '3', '8', '1', '4', '1', '2', '7', '1', '2', '1', '2', '3', '3', '6', '6', '5', '7', '4', '4', '9', '9', '5', '6', '3', '1', '7', '1', '4', '9', '4', '9', '5', '2', '9', '4', '9', '9', '6', '8', '6', '2', '5', '6', '4', '3', '3', '4', '6', '6', '3', '2', '1', '7', '1', '0', '4', '2', '3', '5', '9', '8', '9', '6', '5', '6', '3', '4', '1', '5', '6', '0', '9', '2', '1', '1', '3', '1', '7', '8', '3', '0', '3', '6', '6', '4', '1', '9', '3', '7', '5', '3', '0', '7', '2', '5', '5', '1', '5', '6', '6', '9', '6', '0', '0', '7', '3', '9', '7', '3', '9', '0', '3', '9', '4', '9', '4', '0', '6', '4', '8', '9', '8', '2', '7', '9', '8', '0', '0', '6', '0', '5', '3', '5', '3', '4', '7', '4', '0', '5', '8', '7', '9', '8', '2', '0', '0', '8', '6', '0', '8', '9', '3', '3', '1', '3', '5', '0', '2', '0', '2', '9', '3', '5', '0', '2', '7', '8', '7', '8', '9', '3', '3', '5', '1', '6', '4', '4', '0', '9', '6', '8', '1', '2', '7', '1', '8', '5', '0', '1', '4', '8', '5', '3', '0', '7', '0', '0', '9', '8', '5', '7', '9', '5', '5', '0', '0', '7', '4', '4', '1', '7', '5', '7', '4', '6', '1', '7', '4', '0', '3', '4', '2', '3', '2', '2', '6', '6', '6', '4', '9', '5', '8', '9', '0', '8', '3', '9', '0', '9', '5', '6', '5']\n"
          ],
          "name": "stdout"
        }
      ]
    },
    {
      "cell_type": "code",
      "metadata": {
        "colab": {
          "base_uri": "https://localhost:8080/"
        },
        "id": "I36Hq504EX2r",
        "outputId": "ee6b52ac-4de8-4e92-e224-32ab065e3bbc"
      },
      "source": [
        "print(train_df_label)"
      ],
      "execution_count": null,
      "outputs": [
        {
          "output_type": "stream",
          "text": [
            "      0\n",
            "0     4\n",
            "1     3\n",
            "2     5\n",
            "3     7\n",
            "4     5\n",
            "...  ..\n",
            "1939  0\n",
            "1940  9\n",
            "1941  5\n",
            "1942  6\n",
            "1943  5\n",
            "\n",
            "[1944 rows x 1 columns]\n"
          ],
          "name": "stdout"
        }
      ]
    },
    {
      "cell_type": "code",
      "metadata": {
        "id": "dekbTBYhGy8G"
      },
      "source": [
        "#similarly for test feature and labels\n",
        "results_T = defaultdict(list)\n",
        "label_T=[]\n",
        "for file in Path(testDataPath).iterdir():\n",
        "    with open(file, \"r\") as file_open:\n",
        "        results_T[\"text\"].append(file_open.read())\n",
        "    label_T.append(str(str(file).split(\"/\")[-1]).split(\".\")[0][0])\n",
        "test_df_feature = pd.DataFrame(results_T)\n",
        "test_df_label=pd.DataFrame(label_T)\n"
      ],
      "execution_count": null,
      "outputs": []
    },
    {
      "cell_type": "code",
      "metadata": {
        "colab": {
          "base_uri": "https://localhost:8080/"
        },
        "id": "deCPeqjjH7LO",
        "outputId": "8ee2f43e-c8a1-4416-fca0-e2b24a1005e2"
      },
      "source": [
        "print(test_df_feature)"
      ],
      "execution_count": null,
      "outputs": [
        {
          "output_type": "stream",
          "text": [
            "                                                  text\n",
            "0    00000000011111100000000000000000\\n000000011111...\n",
            "1    00000000000000000111100000000000\\n000000000000...\n",
            "2    00000000000000001000000000000000\\n000000000000...\n",
            "3    00000000000000011111000000000000\\n000000000000...\n",
            "4    00000000000000001110000000000000\\n000000000000...\n",
            "..                                                 ...\n",
            "951  00000000000011111100000000000000\\n000000000011...\n",
            "952  00000000000001110000000000000000\\n000000000000...\n",
            "953  00000000000000111110000000000000\\n000000000000...\n",
            "954  00000000000111000000000000000000\\n000000000011...\n",
            "955  00000000000000000111111000000000\\n000000000000...\n",
            "\n",
            "[956 rows x 1 columns]\n"
          ],
          "name": "stdout"
        }
      ]
    },
    {
      "cell_type": "code",
      "metadata": {
        "colab": {
          "base_uri": "https://localhost:8080/"
        },
        "id": "duCl7k5XJdKT",
        "outputId": "23c92417-f1d2-4911-9b9a-8c1f621f679d"
      },
      "source": [
        "print(test_df_label)"
      ],
      "execution_count": null,
      "outputs": [
        {
          "output_type": "stream",
          "text": [
            "     0\n",
            "0    3\n",
            "1    8\n",
            "2    8\n",
            "3    2\n",
            "4    4\n",
            "..  ..\n",
            "951  8\n",
            "952  6\n",
            "953  4\n",
            "954  0\n",
            "955  7\n",
            "\n",
            "[956 rows x 1 columns]\n"
          ],
          "name": "stdout"
        }
      ]
    },
    {
      "cell_type": "code",
      "metadata": {
        "id": "ZqfnlngxJgGx"
      },
      "source": [
        "#giving viable column names to respective datasets\n",
        "test_df_label.columns = [\"label\"]\n",
        "train_df_label.columns = [\"label\"]\n",
        "test_df_feature.columns=[\"feature\"]\n",
        "train_df_feature.columns=[\"feature\"]"
      ],
      "execution_count": null,
      "outputs": []
    },
    {
      "cell_type": "code",
      "metadata": {
        "id": "XgDTRXCJNg4s"
      },
      "source": [
        "#using regex for removing \"\\n\" from data\n",
        "\n",
        "train_df_feature=train_df_feature.replace('\\n','',regex=True)\n",
        "train_df_label=train_df_label.replace('\\n','',regex=True)\n",
        "test_df_label=test_df_label.replace('\\n','',regex=True)\n",
        "test_df_feature=test_df_feature.replace('\\n','',regex=True)"
      ],
      "execution_count": null,
      "outputs": []
    },
    {
      "cell_type": "code",
      "metadata": {
        "id": "n5eqDgeCU51x"
      },
      "source": [
        "test_features=test_df_feature.feature.astype(str).apply(list).apply(pd.Series).astype(int)\n",
        "test_feature_dataframe = pd.DataFrame(test_features)\n",
        "train_features = train_df_feature.feature.astype(str).apply(list).apply(pd.Series).astype(int)\n",
        "train_features_dataframe = pd.DataFrame(train_features)"
      ],
      "execution_count": null,
      "outputs": []
    },
    {
      "cell_type": "code",
      "metadata": {
        "colab": {
          "base_uri": "https://localhost:8080/"
        },
        "id": "jGtuBl_yV2h3",
        "outputId": "02471c01-3123-413e-c874-07585e827db3"
      },
      "source": [
        "print(test_feature_dataframe.head())\n",
        "print(train_features_dataframe.head())"
      ],
      "execution_count": null,
      "outputs": [
        {
          "output_type": "stream",
          "text": [
            "   0     1     2     3     4     5     ...  1018  1019  1020  1021  1022  1023\n",
            "0     0     0     0     0     0     0  ...     0     0     0     0     0     0\n",
            "1     0     0     0     0     0     0  ...     0     0     0     0     0     0\n",
            "2     0     0     0     0     0     0  ...     0     0     0     0     0     0\n",
            "3     0     0     0     0     0     0  ...     0     0     0     0     0     0\n",
            "4     0     0     0     0     0     0  ...     0     0     0     0     0     0\n",
            "\n",
            "[5 rows x 1024 columns]\n",
            "   0     1     2     3     4     5     ...  1018  1019  1020  1021  1022  1023\n",
            "0     0     0     0     0     0     0  ...     0     0     0     0     0     0\n",
            "1     0     0     0     0     0     0  ...     0     0     0     0     0     0\n",
            "2     0     0     0     0     0     0  ...     0     0     0     0     0     0\n",
            "3     0     0     0     0     0     0  ...     0     0     0     0     0     0\n",
            "4     0     0     0     0     0     0  ...     0     0     0     0     0     0\n",
            "\n",
            "[5 rows x 1024 columns]\n"
          ],
          "name": "stdout"
        }
      ]
    },
    {
      "cell_type": "code",
      "metadata": {
        "id": "MYoxwJzMJ0Zq"
      },
      "source": [
        "#we are ready to go with, train_df_feature, train_df_label, test_df_feature, test_df_label\n",
        "x_train= train_features_dataframe[train_features_dataframe.columns[1:1024]]\n",
        "y_train=train_df_label[\"label\"]\n",
        "x_test=test_feature_dataframe[test_feature_dataframe.columns[1:1024]]\n",
        "y_test=test_df_label[\"label\"]"
      ],
      "execution_count": null,
      "outputs": []
    },
    {
      "cell_type": "code",
      "metadata": {
        "colab": {
          "base_uri": "https://localhost:8080/"
        },
        "id": "N6KiT8ohYulr",
        "outputId": "1d1c10e4-a931-4f56-bb3a-74bf6e781b1e"
      },
      "source": [
        "print(x_train.head())\n",
        "print(y_train.head())\n",
        "print(x_test.head())\n",
        "print(y_test.head())"
      ],
      "execution_count": null,
      "outputs": [
        {
          "output_type": "stream",
          "text": [
            "   1     2     3     4     5     6     ...  1018  1019  1020  1021  1022  1023\n",
            "0     0     0     0     0     0     0  ...     0     0     0     0     0     0\n",
            "1     0     0     0     0     0     0  ...     0     0     0     0     0     0\n",
            "2     0     0     0     0     0     0  ...     0     0     0     0     0     0\n",
            "3     0     0     0     0     0     0  ...     0     0     0     0     0     0\n",
            "4     0     0     0     0     0     0  ...     0     0     0     0     0     0\n",
            "\n",
            "[5 rows x 1023 columns]\n",
            "0    4\n",
            "1    3\n",
            "2    5\n",
            "3    7\n",
            "4    5\n",
            "Name: label, dtype: object\n",
            "   1     2     3     4     5     6     ...  1018  1019  1020  1021  1022  1023\n",
            "0     0     0     0     0     0     0  ...     0     0     0     0     0     0\n",
            "1     0     0     0     0     0     0  ...     0     0     0     0     0     0\n",
            "2     0     0     0     0     0     0  ...     0     0     0     0     0     0\n",
            "3     0     0     0     0     0     0  ...     0     0     0     0     0     0\n",
            "4     0     0     0     0     0     0  ...     0     0     0     0     0     0\n",
            "\n",
            "[5 rows x 1023 columns]\n",
            "0    3\n",
            "1    8\n",
            "2    8\n",
            "3    2\n",
            "4    4\n",
            "Name: label, dtype: object\n"
          ],
          "name": "stdout"
        }
      ]
    },
    {
      "cell_type": "code",
      "metadata": {
        "id": "gMNUSZpNLBE2"
      },
      "source": [
        "knn=KNeighborsClassifier(n_neighbors = 3)"
      ],
      "execution_count": null,
      "outputs": []
    },
    {
      "cell_type": "code",
      "metadata": {
        "colab": {
          "base_uri": "https://localhost:8080/"
        },
        "id": "lOFMpzgzMIzP",
        "outputId": "6fa6ff42-2dcc-4709-c3fa-90ca112b3367"
      },
      "source": [
        "knn.fit(x_train, y_train)"
      ],
      "execution_count": null,
      "outputs": [
        {
          "output_type": "execute_result",
          "data": {
            "text/plain": [
              "KNeighborsClassifier(algorithm='auto', leaf_size=30, metric='minkowski',\n",
              "                     metric_params=None, n_jobs=None, n_neighbors=3, p=2,\n",
              "                     weights='uniform')"
            ]
          },
          "metadata": {
            "tags": []
          },
          "execution_count": 57
        }
      ]
    },
    {
      "cell_type": "code",
      "metadata": {
        "id": "tjJ36ZbxaRHc"
      },
      "source": [
        "\n"
      ],
      "execution_count": null,
      "outputs": []
    },
    {
      "cell_type": "code",
      "metadata": {
        "colab": {
          "base_uri": "https://localhost:8080/"
        },
        "id": "YqlgbbAmasnD",
        "outputId": "389269f8-bda8-412f-b645-c56d63725710"
      },
      "source": [
        "predictions = knn.predict(x_test)\n",
        "print(predictions[1])\n",
        "\n"
      ],
      "execution_count": null,
      "outputs": [
        {
          "output_type": "stream",
          "text": [
            "8\n"
          ],
          "name": "stdout"
        }
      ]
    },
    {
      "cell_type": "code",
      "metadata": {
        "colab": {
          "base_uri": "https://localhost:8080/"
        },
        "id": "Mtnfn4A8bU3M",
        "outputId": "db44b20c-b85b-4ea2-c52e-575ab47b97cc"
      },
      "source": [
        "print(\"Evaluating on testing data\")\n",
        "print(classification_report(y_test, predictions))\n",
        "\n",
        "print (\"Confusion matrix\")\n",
        "print(confusion_matrix(y_test,predictions))"
      ],
      "execution_count": null,
      "outputs": [
        {
          "output_type": "stream",
          "text": [
            "Evaluating on testing data\n",
            "              precision    recall  f1-score   support\n",
            "\n",
            "           0       1.00      1.00      1.00        87\n",
            "           1       0.96      0.99      0.97        97\n",
            "           2       1.00      1.00      1.00        92\n",
            "           3       0.98      0.99      0.98        85\n",
            "           4       1.00      1.00      1.00       114\n",
            "           5       0.99      0.98      0.99       108\n",
            "           6       0.98      1.00      0.99        97\n",
            "           7       0.98      1.00      0.99        96\n",
            "           8       1.00      0.95      0.97        91\n",
            "           9       0.99      0.97      0.98        89\n",
            "\n",
            "    accuracy                           0.99       956\n",
            "   macro avg       0.99      0.99      0.99       956\n",
            "weighted avg       0.99      0.99      0.99       956\n",
            "\n",
            "Confusion matrix\n",
            "[[ 87   0   0   0   0   0   0   0   0   0]\n",
            " [  0  96   0   0   0   0   0   1   0   0]\n",
            " [  0   0  92   0   0   0   0   0   0   0]\n",
            " [  0   0   0  84   0   0   0   0   0   1]\n",
            " [  0   0   0   0 114   0   0   0   0   0]\n",
            " [  0   0   0   1   0 106   1   0   0   0]\n",
            " [  0   0   0   0   0   0  97   0   0   0]\n",
            " [  0   0   0   0   0   0   0  96   0   0]\n",
            " [  0   3   0   1   0   0   1   0  86   0]\n",
            " [  0   1   0   0   0   1   0   1   0  86]]\n"
          ],
          "name": "stdout"
        }
      ]
    },
    {
      "cell_type": "code",
      "metadata": {
        "id": "PAimc4UzcmbH"
      },
      "source": [
        ""
      ],
      "execution_count": null,
      "outputs": []
    }
  ]
}